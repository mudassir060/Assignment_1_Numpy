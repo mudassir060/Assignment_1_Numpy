{
 "cells": [
  {
   "cell_type": "code",
   "execution_count": 2,
   "metadata": {},
   "outputs": [
    {
     "name": "stdout",
     "output_type": "stream",
     "text": [
      "1\n"
     ]
    }
   ],
   "source": [
    "import numpy as np\n",
    "arr = np.array([1, 2, 3, 4])\n",
    "print(arr[0])\n"
   ]
  },
  {
   "cell_type": "code",
   "execution_count": 3,
   "metadata": {},
   "outputs": [
    {
     "name": "stdout",
     "output_type": "stream",
     "text": [
      "[1 2 3]\n"
     ]
    }
   ],
   "source": [
    "a=np.array([1,2,3])\n",
    "print(a)"
   ]
  },
  {
   "cell_type": "code",
   "execution_count": 4,
   "metadata": {},
   "outputs": [
    {
     "name": "stdout",
     "output_type": "stream",
     "text": [
      "[1 2 3 4 5 6]\n"
     ]
    }
   ],
   "source": [
    "arr1 = np.array([1, 2, 3])\n",
    "arr2 = np.array([4, 5, 6])\n",
    "arr = np.concatenate((arr1, arr2))\n",
    "print(arr)"
   ]
  },
  {
   "cell_type": "code",
   "execution_count": 5,
   "metadata": {},
   "outputs": [
    {
     "name": "stdout",
     "output_type": "stream",
     "text": [
      "[1 2 3 4 5 6]\n",
      "----------\n",
      "[[1 2 3]\n",
      " [4 5 6]]\n",
      "----------\n",
      "[[[ 1  2  3]\n",
      "  [ 4  5  6]]\n",
      "\n",
      " [[ 7  8  9]\n",
      "  [10 11 12]]]\n"
     ]
    }
   ],
   "source": [
    "array1d = np.array([1, 2, 3, 4, 5, 6])\n",
    "array2d = np.array([[1, 2, 3], [4, 5, 6]])\n",
    "array3d = np.array([[[1, 2, 3], [4, 5, 6]], [[7, 8, 9], [10, 11, 12]]])\n",
    "print(array1d)\n",
    "\n",
    "print(\"-\" * 10)\n",
    "print(array2d)\n",
    "print(\"-\" * 10)\n",
    "print(array3d) "
   ]
  },
  {
   "cell_type": "code",
   "execution_count": 6,
   "metadata": {},
   "outputs": [
    {
     "name": "stdout",
     "output_type": "stream",
     "text": [
      "[1 2 3 4]\n",
      "----------\n",
      "[[1 2 3 4]\n",
      " [5 6 7 8]]\n",
      "----------\n",
      "[[1 2 3]\n",
      " [4 5 6]\n",
      " [7 8 0]]\n"
     ]
    }
   ],
   "source": [
    "\n",
    "thearray = np.array([1, 2, 3, 4, 5, 6, 7, 8])\n",
    "thearray.resize(4)\n",
    "print(thearray)\n",
    " \n",
    "print(\"-\" * 10)\n",
    "thearray = np.array([1, 2, 3, 4, 5, 6, 7, 8])\n",
    "thearray.resize(2, 4)\n",
    "print(thearray)\n",
    " \n",
    "print(\"-\" * 10)\n",
    "thearray = np.array([1, 2, 3, 4, 5, 6, 7, 8])\n",
    "thearray.resize(3, 3)\n",
    "print(thearray)\n"
   ]
  },
  {
   "cell_type": "markdown",
   "metadata": {},
   "source": [
    "#### shape of numpy array"
   ]
  },
  {
   "cell_type": "code",
   "execution_count": 7,
   "metadata": {},
   "outputs": [
    {
     "name": "stdout",
     "output_type": "stream",
     "text": [
      "(6,)\n",
      "(2, 3)\n",
      "(2, 2, 3)\n"
     ]
    }
   ],
   "source": [
    " \n",
    "array1d = np.array([1, 2, 3, 4, 5, 6])\n",
    "array2d = np.array([[1, 2, 3], [4, 5, 6]])\n",
    "array3d = np.array([[[1, 2, 3], [4, 5, 6]], [[7, 8, 9], [10, 11, 12]]])\n",
    " \n",
    "print(array1d.shape)\n",
    "print(array2d.shape)\n",
    "print(array3d.shape)\n",
    "\n"
   ]
  },
  {
   "cell_type": "markdown",
   "metadata": {},
   "source": [
    "#### Resize array"
   ]
  },
  {
   "cell_type": "code",
   "execution_count": 8,
   "metadata": {},
   "outputs": [
    {
     "name": "stdout",
     "output_type": "stream",
     "text": [
      "[1 2 3 4]\n",
      "----------\n",
      "[[1 2 3 4]\n",
      " [5 6 7 8]]\n",
      "----------\n",
      "[[1 2 3]\n",
      " [4 5 6]\n",
      " [7 8 0]]\n"
     ]
    }
   ],
   "source": [
    " \n",
    "thearray = np.array([1, 2, 3, 4, 5, 6, 7, 8])\n",
    "thearray.resize(4)\n",
    "print(thearray)\n",
    " \n",
    "print(\"-\" * 10)\n",
    "thearray = np.array([1, 2, 3, 4, 5, 6, 7, 8])\n",
    "thearray.resize(2, 4)\n",
    "print(thearray)\n",
    " \n",
    "print(\"-\" * 10)\n",
    "thearray = np.array([1, 2, 3, 4, 5, 6, 7, 8])\n",
    "thearray.resize(3, 3)\n",
    "print(thearray)"
   ]
  },
  {
   "cell_type": "markdown",
   "metadata": {},
   "source": [
    "#### Reshape array\n"
   ]
  },
  {
   "cell_type": "code",
   "execution_count": 9,
   "metadata": {},
   "outputs": [
    {
     "name": "stdout",
     "output_type": "stream",
     "text": [
      "[[1 2 3 4]\n",
      " [5 6 7 8]]\n",
      "----------\n",
      "[[1 2]\n",
      " [3 4]\n",
      " [5 6]\n",
      " [7 8]]\n",
      "----------\n",
      "[[1]\n",
      " [2]\n",
      " [3]\n",
      " [4]\n",
      " [5]\n",
      " [6]\n",
      " [7]\n",
      " [8]]\n"
     ]
    }
   ],
   "source": [
    " \n",
    "thearray = np.array([1, 2, 3, 4, 5, 6, 7, 8])\n",
    "thearray = thearray.reshape(2, 4)\n",
    "print(thearray)\n",
    " \n",
    "print(\"-\" * 10)\n",
    "thearray = thearray.reshape(4, 2)\n",
    "print(thearray)\n",
    " \n",
    "print(\"-\" * 10)\n",
    "thearray = thearray.reshape(8, 1)\n",
    "print(thearray)"
   ]
  },
  {
   "cell_type": "code",
   "execution_count": 10,
   "metadata": {},
   "outputs": [
    {
     "name": "stdout",
     "output_type": "stream",
     "text": [
      "6\n",
      "----------\n",
      "[[1 2 3]\n",
      " [4 5 6]\n",
      " [7 8 9]]\n",
      "----------\n",
      "1\n"
     ]
    }
   ],
   "source": [
    "array1d = np.array([1, 2, 3, 4, 5, 6]) \n",
    "print(array1d[-1])   \n",
    "print(\"-\" * 10)\n",
    "array2d = np.array([[1, 2, 3], [4, 5, 6], [7, 8, 9]])\n",
    "print(array2d)\n",
    "print(\"-\" * 10)\n",
    "print(array2d[0, 0])   # Get first row first col "
   ]
  },
  {
   "cell_type": "code",
   "execution_count": 11,
   "metadata": {},
   "outputs": [
    {
     "name": "stdout",
     "output_type": "stream",
     "text": [
      "[0. 0. 0.]\n",
      "[[0. 0. 0. 0.]\n",
      " [0. 0. 0. 0.]]\n"
     ]
    }
   ],
   "source": [
    "array1d = np.zeros(3)\n",
    "print(array1d)\n",
    " \n",
    "array2d = np.zeros((2, 4))\n",
    "print(array2d)"
   ]
  },
  {
   "cell_type": "code",
   "execution_count": 12,
   "metadata": {},
   "outputs": [
    {
     "name": "stdout",
     "output_type": "stream",
     "text": [
      "[0 1 2 3 4]\n",
      "[ 0  2  4  6  8 10]\n",
      "[[ 0  2  4]\n",
      " [ 6  8 10]]\n"
     ]
    }
   ],
   "source": [
    "import numpy as np\n",
    "array1d = np.arange(5)  \n",
    "print(array1d)\n",
    "array1d = np.arange(0, 12, 2)  \n",
    "print(array1d)\n",
    "array2d = np.arange(0, 12, 2).reshape(2, 3)   \n",
    "print(array2d) "
   ]
  },
  {
   "cell_type": "code",
   "execution_count": 13,
   "metadata": {},
   "outputs": [
    {
     "name": "stdout",
     "output_type": "stream",
     "text": [
      "[[0.94248312 0.76188395]\n",
      " [0.1143521  0.90075872]\n",
      " [0.46563954 0.01107728]]\n"
     ]
    }
   ],
   "source": [
    "print(np.random.rand(3, 2))   \n",
    "   "
   ]
  },
  {
   "cell_type": "code",
   "execution_count": 14,
   "metadata": {},
   "outputs": [
    {
     "name": "stdout",
     "output_type": "stream",
     "text": [
      "[[1. 0. 0.]\n",
      " [0. 1. 0.]\n",
      " [0. 0. 1.]]\n"
     ]
    }
   ],
   "source": [
    "print(np.identity(3))\n"
   ]
  },
  {
   "cell_type": "code",
   "execution_count": 15,
   "metadata": {},
   "outputs": [
    {
     "name": "stdout",
     "output_type": "stream",
     "text": [
      "[[0 0 0 0]\n",
      " [0 2 0 0]\n",
      " [0 0 4 0]\n",
      " [0 0 0 6]]\n"
     ]
    }
   ],
   "source": [
    "print(np.diag(np.arange(0, 8, 2)))"
   ]
  },
  {
   "cell_type": "code",
   "execution_count": 16,
   "metadata": {},
   "outputs": [
    {
     "name": "stdout",
     "output_type": "stream",
     "text": [
      "[[0 0 0]\n",
      " [0 4 0]\n",
      " [0 0 8]]\n"
     ]
    }
   ],
   "source": [
    "print(np.diag(np.diag(np.arange(9).reshape((3,3)))))"
   ]
  },
  {
   "cell_type": "code",
   "execution_count": 17,
   "metadata": {},
   "outputs": [
    {
     "name": "stdout",
     "output_type": "stream",
     "text": [
      "[10 14 20 24 30 34 36 40 46 50]\n"
     ]
    }
   ],
   "source": [
    "array1 = np.array([[10, 20, 30], [14, 24, 36]])\n",
    "array2 = np.array([[20, 40, 50], [24, 34, 46]])\n",
    " \n",
    "print(np.union1d(array1, array2))\n",
    "  "
   ]
  },
  {
   "cell_type": "code",
   "execution_count": 18,
   "metadata": {},
   "outputs": [
    {
     "name": "stdout",
     "output_type": "stream",
     "text": [
      "[20 24]\n"
     ]
    }
   ],
   "source": [
    "array1 = np.array([[10, 20, 30], [14, 24, 36]])\n",
    "array2 = np.array([[20, 40, 50], [24, 34, 46]])\n",
    "print(np.intersect1d(array1, array2))"
   ]
  },
  {
   "cell_type": "code",
   "execution_count": 19,
   "metadata": {},
   "outputs": [
    {
     "name": "stdout",
     "output_type": "stream",
     "text": [
      "[10 14 30 36]\n"
     ]
    }
   ],
   "source": [
    "array1 = np.array([[10, 20, 30], [14, 24, 36]])\n",
    "array2 = np.array([[20, 40, 50], [24, 34, 46]])\n",
    "print(np.setdiff1d(array1, array2))\n",
    " "
   ]
  },
  {
   "cell_type": "code",
   "execution_count": 20,
   "metadata": {},
   "outputs": [
    {
     "name": "stdout",
     "output_type": "stream",
     "text": [
      "[[ 5 10 15]\n",
      " [15  5 10]\n",
      " [10 15  5]]\n",
      "----------\n",
      "[[ 5 10 15]\n",
      " [ 9 18 27]\n",
      " [ 8 16 24]]\n"
     ]
    }
   ],
   "source": [
    "before = np.array([[0, 1, 2], [2, 0, 1], [1, 2, 0]])\n",
    "choices = [5, 10, 15]\n",
    " \n",
    "after = np.choose(before, choices)\n",
    "print(after)\n",
    " \n",
    "print(\"-\" * 10)\n",
    " \n",
    "before = np.array([[0, 0, 0], [2, 2, 2], [1, 1, 1]])\n",
    "choice1 = [5, 10, 15]\n",
    "choice2 = [8, 16, 24]\n",
    "choice3 = [9, 18, 27]\n",
    " \n",
    "after = np.choose(before, (choice1, choice2, choice3))\n",
    "print(after)"
   ]
  },
  {
   "cell_type": "code",
   "execution_count": 21,
   "metadata": {},
   "outputs": [
    {
     "name": "stdout",
     "output_type": "stream",
     "text": [
      "[[-0.54402111  0.91294525 -0.98803162]\n",
      " [ 0.74511316 -0.26237485 -0.30481062]]\n"
     ]
    }
   ],
   "source": [
    "array1 = np.array([[10, 20, 30], [40, 50, 60]])\n",
    " \n",
    "print(np.sin(array1))\n"
   ]
  },
  {
   "cell_type": "code",
   "execution_count": 22,
   "metadata": {},
   "outputs": [
    {
     "name": "stdout",
     "output_type": "stream",
     "text": [
      "[[-0.83907153  0.40808206  0.15425145]\n",
      " [-0.66693806  0.96496603 -0.95241298]]\n"
     ]
    }
   ],
   "source": [
    "array1 = np.array([[10, 20, 30], [40, 50, 60]])\n",
    "print(np.cos(array1))"
   ]
  },
  {
   "cell_type": "code",
   "execution_count": 23,
   "metadata": {},
   "outputs": [
    {
     "name": "stdout",
     "output_type": "stream",
     "text": [
      "[[ 0.64836083  2.23716094 -6.4053312 ]\n",
      " [-1.11721493 -0.27190061  0.32004039]]\n"
     ]
    }
   ],
   "source": [
    "array1 = np.array([[10, 20, 30], [40, 50, 60]])\n",
    "print(np.tan(array1)) \n",
    "\n"
   ]
  },
  {
   "cell_type": "code",
   "execution_count": 24,
   "metadata": {},
   "outputs": [
    {
     "name": "stdout",
     "output_type": "stream",
     "text": [
      "[[3.16227766 4.47213595 5.47722558]\n",
      " [6.32455532 7.07106781 7.74596669]]\n"
     ]
    }
   ],
   "source": [
    "array1 = np.array([[10, 20, 30], [40, 50, 60]])\n",
    "print(np.sqrt(array1))\n"
   ]
  },
  {
   "cell_type": "code",
   "execution_count": 25,
   "metadata": {},
   "outputs": [
    {
     "name": "stdout",
     "output_type": "stream",
     "text": [
      "[[2.20264658e+04 4.85165195e+08 1.06864746e+13]\n",
      " [2.35385267e+17 5.18470553e+21 1.14200739e+26]]\n"
     ]
    }
   ],
   "source": [
    "array1 = np.array([[10, 20, 30], [40, 50, 60]])\n",
    "print(np.exp(array1))\n"
   ]
  },
  {
   "cell_type": "code",
   "execution_count": 46,
   "metadata": {},
   "outputs": [
    {
     "name": "stdout",
     "output_type": "stream",
     "text": [
      "[[1.         1.30103    1.47712125]\n",
      " [1.60205999 1.69897    1.77815125]]\n"
     ]
    }
   ],
   "source": [
    "array1 = np.array([[10, 20, 30], [40, 50, 60]])\n",
    "print(np.log10(array1))\n"
   ]
  },
  {
   "cell_type": "code",
   "execution_count": 47,
   "metadata": {},
   "outputs": [
    {
     "name": "stdout",
     "output_type": "stream",
     "text": [
      "[[[ 1  2  3]\n",
      "  [ 4  5  6]]\n",
      "\n",
      " [[ 7  8  9]\n",
      "  [10 11 12]]]\n",
      "1\n",
      "2\n",
      "3\n"
     ]
    }
   ],
   "source": [
    "array3d = np.array([[[1, 2, 3], [4, 5, 6]], [[7, 8, 9], [10, 11, 12]]])\n",
    "print(array3d)\n",
    " \n",
    "print(array3d[0, 0, 0])\n",
    "print(array3d[0, 0, 1])\n",
    "print(array3d[0, 0, 2])\n",
    "  "
   ]
  },
  {
   "cell_type": "code",
   "execution_count": 48,
   "metadata": {},
   "outputs": [
    {
     "name": "stdout",
     "output_type": "stream",
     "text": [
      "int32\n",
      "float64\n",
      "<U1\n",
      "<U5\n",
      "float64\n"
     ]
    }
   ],
   "source": [
    "type1 = np.array([1, 2, 3, 4, 5, 6])\n",
    "type2 = np.array([1.5, 2.5, 0.5, 6])\n",
    "type3 = np.array(['a', 'b', 'c'])\n",
    "type4 = np.array([\"Canada\", \"Australia\"], dtype='U5')\n",
    "type5 = np.array([555, 666], dtype=float)\n",
    " \n",
    "print(type1.dtype)\n",
    "print(type2.dtype)\n",
    "print(type3.dtype)\n",
    "print(type4.dtype)\n",
    "print(type5.dtype)\n",
    " "
   ]
  },
  {
   "cell_type": "code",
   "execution_count": 49,
   "metadata": {},
   "outputs": [
    {
     "name": "stdout",
     "output_type": "stream",
     "text": [
      "[ 1.          1.18367347  1.36734694  1.55102041  1.73469388  1.91836735\n",
      "  2.10204082  2.28571429  2.46938776  2.65306122  2.83673469  3.02040816\n",
      "  3.20408163  3.3877551   3.57142857  3.75510204  3.93877551  4.12244898\n",
      "  4.30612245  4.48979592  4.67346939  4.85714286  5.04081633  5.2244898\n",
      "  5.40816327  5.59183673  5.7755102   5.95918367  6.14285714  6.32653061\n",
      "  6.51020408  6.69387755  6.87755102  7.06122449  7.24489796  7.42857143\n",
      "  7.6122449   7.79591837  7.97959184  8.16326531  8.34693878  8.53061224\n",
      "  8.71428571  8.89795918  9.08163265  9.26530612  9.44897959  9.63265306\n",
      "  9.81632653 10.        ]\n",
      "[1.         2.28571429 3.57142857 4.85714286 6.14285714 7.42857143\n",
      " 8.71428571]\n"
     ]
    }
   ],
   "source": [
    "print(np.linspace(1, 10))  \n",
    "print(np.linspace(1, 10, 7, endpoint=False))"
   ]
  },
  {
   "cell_type": "code",
   "execution_count": 40,
   "metadata": {},
   "outputs": [
    {
     "name": "stdout",
     "output_type": "stream",
     "text": [
      "x:  42\n",
      "The type of x:  <class 'numpy.ndarray'>\n",
      "The dimension of x: 0\n"
     ]
    }
   ],
   "source": [
    "x = np.array(42)\n",
    "print(\"x: \", x)\n",
    "print(\"The type of x: \", type(x))\n",
    "print(\"The dimension of x:\", np.ndim(x))"
   ]
  },
  {
   "cell_type": "code",
   "execution_count": 52,
   "metadata": {},
   "outputs": [
    {
     "name": "stdout",
     "output_type": "stream",
     "text": [
      "[[1. 1. 1.]\n",
      " [1. 1. 1.]]\n",
      "[[1 1 1 1]\n",
      " [1 1 1 1]\n",
      " [1 1 1 1]]\n"
     ]
    }
   ],
   "source": [
    "E = np.ones((2,3))\n",
    "print(E)\n",
    "\n",
    "F = np.ones((3,4),dtype=int)\n",
    "print(F)"
   ]
  },
  {
   "cell_type": "code",
   "execution_count": 55,
   "metadata": {},
   "outputs": [
    {
     "name": "stdout",
     "output_type": "stream",
     "text": [
      "[[1001   22   12]\n",
      " [  44   53   66]]\n",
      "[[42 22 12]\n",
      " [44 53 66]]\n"
     ]
    }
   ],
   "source": [
    "x = np.array([[42,22,12],[44,53,66]], order='F')\n",
    "y = x.copy()\n",
    "\n",
    "x[0,0] = 1001\n",
    "print(x)\n",
    "\n",
    "print(y)"
   ]
  },
  {
   "cell_type": "code",
   "execution_count": 56,
   "metadata": {},
   "outputs": [
    {
     "name": "stdout",
     "output_type": "stream",
     "text": [
      "[ 8 18 11]\n"
     ]
    }
   ],
   "source": [
    "a = np.array([3,8,12,18,7,11,30])\n",
    "odd_elements = a[1::2]\n",
    "print(odd_elements)"
   ]
  },
  {
   "cell_type": "code",
   "execution_count": 57,
   "metadata": {},
   "outputs": [
    {
     "name": "stdout",
     "output_type": "stream",
     "text": [
      "12\n"
     ]
    }
   ],
   "source": [
    "num1 = 4\n",
    "num2 = 6\n",
    "\n",
    "x = np.lcm(num1, num2)\n",
    "\n",
    "print(x)"
   ]
  },
  {
   "cell_type": "code",
   "execution_count": 58,
   "metadata": {},
   "outputs": [
    {
     "name": "stdout",
     "output_type": "stream",
     "text": [
      "24\n"
     ]
    }
   ],
   "source": [
    "arr = np.array([1, 2, 3, 4])\n",
    "\n",
    "x = np.prod(arr)\n",
    "\n",
    "print(x)"
   ]
  },
  {
   "cell_type": "code",
   "execution_count": 59,
   "metadata": {},
   "outputs": [
    {
     "name": "stdout",
     "output_type": "stream",
     "text": [
      "[  24 1680]\n"
     ]
    }
   ],
   "source": [
    "arr1 = np.array([1, 2, 3, 4])\n",
    "arr2 = np.array([5, 6, 7, 8])\n",
    "\n",
    "newarr = np.prod([arr1, arr2], axis=1)\n",
    "\n",
    "print(newarr)"
   ]
  },
  {
   "cell_type": "code",
   "execution_count": 60,
   "metadata": {},
   "outputs": [
    {
     "name": "stdout",
     "output_type": "stream",
     "text": [
      "[array([1, 2]), array([3, 4]), array([5, 6])]\n"
     ]
    }
   ],
   "source": [
    "arr = np.array([1, 2, 3, 4, 5, 6])\n",
    "\n",
    "newarr = np.array_split(arr, 3)\n",
    "\n",
    "print(newarr)"
   ]
  },
  {
   "cell_type": "code",
   "execution_count": 61,
   "metadata": {},
   "outputs": [
    {
     "name": "stdout",
     "output_type": "stream",
     "text": [
      "[0 1 2 3]\n"
     ]
    }
   ],
   "source": [
    "arr = np.array([3, 2, 0, 1])\n",
    "\n",
    "print(np.sort(arr))"
   ]
  },
  {
   "cell_type": "code",
   "execution_count": null,
   "metadata": {},
   "outputs": [],
   "source": []
  }
 ],
 "metadata": {
  "kernelspec": {
   "display_name": "Python 3",
   "language": "python",
   "name": "python3"
  },
  "language_info": {
   "codemirror_mode": {
    "name": "ipython",
    "version": 3
   },
   "file_extension": ".py",
   "mimetype": "text/x-python",
   "name": "python",
   "nbconvert_exporter": "python",
   "pygments_lexer": "ipython3",
   "version": "3.8.5"
  }
 },
 "nbformat": 4,
 "nbformat_minor": 4
}
